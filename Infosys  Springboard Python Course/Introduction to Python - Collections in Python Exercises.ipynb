{
 "cells": [
  {
   "cell_type": "markdown",
   "id": "73f4c432",
   "metadata": {},
   "source": [
    "#### Q1. Write a Python function proper_divisors(num) which returns a list of all the proper divisors of given number.\n",
    "\n",
    "Example: Proper divisors of 220 are 1, 2, 4, 5, 10, 11, 20, 22, 44, 55, 110"
   ]
  },
  {
   "cell_type": "code",
   "execution_count": 7,
   "id": "b97d4681",
   "metadata": {},
   "outputs": [],
   "source": [
    "def proper_divisors(num):\n",
    "    proper_divisor_lt = []\n",
    "    for i in range(1,num//2+10):\n",
    "        if num % i == 0:\n",
    "            proper_divisor_lt.append(i)\n",
    "    return proper_divisor_lt"
   ]
  },
  {
   "cell_type": "code",
   "execution_count": 8,
   "id": "ce3a4895",
   "metadata": {},
   "outputs": [
    {
     "data": {
      "text/plain": [
       "[1, 2, 4, 5, 10, 11, 20, 22, 44, 55, 110]"
      ]
     },
     "execution_count": 8,
     "metadata": {},
     "output_type": "execute_result"
    }
   ],
   "source": [
    "proper_divisors(220)"
   ]
  },
  {
   "cell_type": "markdown",
   "id": "87abecc9",
   "metadata": {},
   "source": [
    "#### Q2. Write a Python function generate_fibanacci(n) to return a list of first n Fibonacci numbers"
   ]
  },
  {
   "cell_type": "code",
   "execution_count": 19,
   "id": "4ced0810",
   "metadata": {},
   "outputs": [],
   "source": [
    "def generate_fibanacci(n):\n",
    "    fab_lt = [0,1]\n",
    "    for i in range(1,n+1):\n",
    "        temp_num = fab_lt[i-1] + fab_lt[i]\n",
    "        fab_lt.append(temp_num)\n",
    "    return fab_lt"
   ]
  },
  {
   "cell_type": "code",
   "execution_count": 20,
   "id": "e1fd32a1",
   "metadata": {},
   "outputs": [
    {
     "data": {
      "text/plain": [
       "[0, 1, 1, 2, 3, 5, 8, 13]"
      ]
     },
     "execution_count": 20,
     "metadata": {},
     "output_type": "execute_result"
    }
   ],
   "source": [
    "generate_fibanacci(6)"
   ]
  },
  {
   "cell_type": "markdown",
   "id": "7df01486",
   "metadata": {},
   "source": [
    "#### Q3. Write a Python program to generate the next 15 leap years starting from a given year. Populate the leap years into a list and display the list.\n"
   ]
  },
  {
   "cell_type": "code",
   "execution_count": 43,
   "id": "87358ca2",
   "metadata": {},
   "outputs": [],
   "source": [
    "def next_15_leap_years(year):\n",
    "    leap_year_lt = []\n",
    "    leap = False\n",
    "    c_year = year\n",
    "    while len(leap_year_lt) != 15:\n",
    "        c_year += 1\n",
    "        # check if year is leap or not\n",
    "        if ((c_year % 4 == 0) and (c_year % 100 != 0)) or (c_year % 400 == 0):\n",
    "            leap_year_lt.append(c_year)  \n",
    "                \n",
    "    return leap_year_lt"
   ]
  },
  {
   "cell_type": "code",
   "execution_count": 45,
   "id": "f4864612",
   "metadata": {},
   "outputs": [
    {
     "name": "stdout",
     "output_type": "stream",
     "text": [
      "[1992, 1996, 2000, 2004, 2008, 2012, 2016, 2020, 2024, 2028, 2032, 2036, 2040, 2044, 2048]\n"
     ]
    }
   ],
   "source": [
    "print(next_15_leap_years(1991))"
   ]
  },
  {
   "cell_type": "markdown",
   "id": "93696121",
   "metadata": {},
   "source": [
    "#### Q4. Given a string containing uppercase characters (A-Z), compress the string using Run Length encoding. Repetition of character has to be replaced by storing the length of that run.\n",
    "\n",
    "- Write a python function encode(message)  which performs the run length encoding for a given String and returns the run length encoded String.\n",
    "\n",
    "- Provide different String values and test your program.\n",
    "- Example: message=AAAABBBBCCCCCCCC  output: 4A4B8C"
   ]
  },
  {
   "cell_type": "code",
   "execution_count": 67,
   "id": "ed2adf58",
   "metadata": {},
   "outputs": [],
   "source": [
    "def message(string):\n",
    "    new_s = ''\n",
    "    for i in range(len(string)):\n",
    "        if (string[i] not in new_s):\n",
    "            new_s += str(string.count(string[i]))+string[i]\n",
    "    return new_s"
   ]
  },
  {
   "cell_type": "code",
   "execution_count": 68,
   "id": "1eaec471",
   "metadata": {},
   "outputs": [
    {
     "data": {
      "text/plain": [
       "'4A4B8C'"
      ]
     },
     "execution_count": 68,
     "metadata": {},
     "output_type": "execute_result"
    }
   ],
   "source": [
    "message('AAAABBBBCCCCCCCC')"
   ]
  },
  {
   "cell_type": "markdown",
   "id": "1defb9f0",
   "metadata": {},
   "source": [
    "#### Q5. Represent a small bilingual (English-Swedish) glossary given below as a Python dictionary\n",
    "\n",
    "- {\"merry\":\"god\", \"christmas\":\"jul\", \"and\":\"och\", \"happy\":\"gott\", \"new\":\"nytt\", \"year\":\"ar\"} \n",
    "\n",
    "- and use it to translate your Christmas wishes from English into Swedish.\n",
    "\n",
    "- That is, write a Python function translate(b_dict,list_words) that accepts the bilingual dictionary and a list of English words (your Christmas wish) and returns a list of equivalent Swedish words. \n",
    "\n",
    " "
   ]
  },
  {
   "cell_type": "code",
   "execution_count": 79,
   "id": "3984497d",
   "metadata": {},
   "outputs": [],
   "source": [
    "def translate(b_dict,eng_words_list):\n",
    "    swedish_word_lt = []\n",
    "    for word in eng_words_list:\n",
    "        print(word)\n",
    "        if word.lower() in b_dict:\n",
    "            swedish_word_lt.append(b_dict[word.lower()])\n",
    "    return swedish_word_lt"
   ]
  },
  {
   "cell_type": "code",
   "execution_count": 80,
   "id": "4033cc3e",
   "metadata": {},
   "outputs": [
    {
     "name": "stdout",
     "output_type": "stream",
     "text": [
      "your\n",
      "Christmas\n",
      "wish\n"
     ]
    },
    {
     "data": {
      "text/plain": [
       "['din', 'jul', 'önskar']"
      ]
     },
     "execution_count": 80,
     "metadata": {},
     "output_type": "execute_result"
    }
   ],
   "source": [
    "translate({\"merry\":\"god\",\"your\":\"din\", \"christmas\":\"jul\", \"and\":\"och\", \"happy\":\"gott\",\"wish\":\"önskar\", \"new\":\"nytt\", \"year\":\"ar\"},['your','Christmas','wish'])"
   ]
  }
 ],
 "metadata": {
  "kernelspec": {
   "display_name": "Python 3 (ipykernel)",
   "language": "python",
   "name": "python3"
  },
  "language_info": {
   "codemirror_mode": {
    "name": "ipython",
    "version": 3
   },
   "file_extension": ".py",
   "mimetype": "text/x-python",
   "name": "python",
   "nbconvert_exporter": "python",
   "pygments_lexer": "ipython3",
   "version": "3.9.7"
  }
 },
 "nbformat": 4,
 "nbformat_minor": 5
}
